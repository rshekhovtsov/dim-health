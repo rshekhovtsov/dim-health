{
 "cells": [
  {
   "cell_type": "code",
   "execution_count": 1,
   "metadata": {},
   "outputs": [
    {
     "data": {
      "text/html": [
       "<style>.container { width:100% !important; }</style>"
      ],
      "text/plain": [
       "<IPython.core.display.HTML object>"
      ]
     },
     "metadata": {},
     "output_type": "display_data"
    }
   ],
   "source": [
    "from IPython.core.display import display, HTML\n",
    "display(HTML(\"<style>.container { width:100% !important; }</style>\"))"
   ]
  },
  {
   "cell_type": "code",
   "execution_count": 1,
   "metadata": {},
   "outputs": [],
   "source": [
    "import requests\n",
    "import json\n",
    "import configparser\n",
    "import unittest\n",
    "import uuid\n",
    "import datetime"
   ]
  },
  {
   "cell_type": "code",
   "execution_count": 2,
   "metadata": {},
   "outputs": [],
   "source": [
    "CONFIG_FILE = 'config.ini'\n",
    "DATETIME_FORMAT = '%Y-%m-%d %H:%M:%S'"
   ]
  },
  {
   "cell_type": "code",
   "execution_count": 3,
   "metadata": {},
   "outputs": [],
   "source": [
    "def unit_test(testClassInstance):\n",
    "    unittest.main(testClassInstance, argv=['first-arg-is-ignored'], exit=False)"
   ]
  },
  {
   "cell_type": "code",
   "execution_count": 30,
   "metadata": {},
   "outputs": [
    {
     "name": "stdout",
     "output_type": "stream",
     "text": [
      "TESTS PASSED\n"
     ]
    }
   ],
   "source": [
    "class DimHealthAPI():\n",
    "\n",
    "    def __init__(self, api_server):\n",
    "        self.api_server = api_server\n",
    "        self.req = None\n",
    "        self.token = ''\n",
    "\n",
    "    def login(self, username, password):\n",
    "        self.req = requests.post(\n",
    "            self.api_server + '/rest_api_login/',\n",
    "            headers={'content-type': 'application/json'},\n",
    "            json={\n",
    "                'username': username,\n",
    "                'password': password\n",
    "            }\n",
    "        )\n",
    "\n",
    "        if self.req.ok:\n",
    "            self.token = json.loads(self.req.content)['token']\n",
    "        else:\n",
    "            self.err_details = self.req.content\n",
    "            \n",
    "        return self.req.ok\n",
    "\n",
    "    def add_patients(self, patients):\n",
    "        headers = {\n",
    "           #'Content-Type': 'application/json',\n",
    "           'Authorization': 'Token ' + self.token\n",
    "        }\n",
    "        self.req = requests.post(\n",
    "            self.api_server + '/rest_api_add_patients/',\n",
    "            headers=headers,\n",
    "            json=patients\n",
    "        )\n",
    "\n",
    "        ok = self.req.ok # and json.loads(self.req.content)['status'] in (200,201)\n",
    "        if not ok:\n",
    "            self.err_details = self.req.content\n",
    "            \n",
    "        return ok    \n",
    "    \n",
    "\n",
    "# tests\n",
    "dh_api = DimHealthAPI('http://test.dimhealth.ru:8054')\n",
    "if not dh_api.login('1','2') and dh_api.err_details == b'{\"non_field_errors\":[\"Unable to log in with provided credentials.\"]}':\n",
    "    print('TESTS PASSED')\n",
    "else:\n",
    "    print('TESTS FAIL')"
   ]
  },
  {
   "cell_type": "code",
   "execution_count": 32,
   "metadata": {},
   "outputs": [
    {
     "name": "stderr",
     "output_type": "stream",
     "text": [
      "..\n",
      "----------------------------------------------------------------------\n",
      "Ran 2 tests in 0.001s\n",
      "\n",
      "OK\n"
     ]
    }
   ],
   "source": [
    "# Patient data exampe:\n",
    "# {'uuid': '51ac59c2-3bf5-4866-b436-4a6d0e37h95c',\n",
    "#  'conceptClass': 'base_knowledge',\n",
    "#  'enc_type': 'risk2',\n",
    "#  'fields': [{'date': '2019-02-2800:00:00',\n",
    "#    'map': {'HEMOGLOBIN': 99, 'BLOOD SUGAR': 5, 'HB': 20, 'ALP': 82}},\n",
    "#   {'date': '2019-03-26 00:00:00',\n",
    "#    'map': {'HEMOGLOBIN': 110, 'BLOOD SUGAR': 8, 'HB': 18}},\n",
    "#   {'date': '2019-01-2600:00:00',\n",
    "#    'map': {'HEMOGLOBIN': 100, 'BLOOD SUGAR': 7, 'ALP': 25}}]}\n",
    "\n",
    "class Patient:\n",
    "    \n",
    "    def __init__(self, uuid, pcode, procedures):\n",
    "        '''\n",
    "        Patient info\n",
    "        \n",
    "        params:\n",
    "        - pcode: internal person id (from infoclinic)\n",
    "        - procedures: list of Procedure() objects\n",
    "        '''\n",
    "        self.uuid = uuid\n",
    "        self.pcode = pcode\n",
    "        self.procedures = procedures # list of procedures\n",
    "      \n",
    "    def to_json(self):\n",
    "        return {\n",
    "            'uuid': self.uuid,\n",
    "            'conceptClass': 'base_knowledge', # reserved\n",
    "            'enc_type': 'risk2', # reserved\n",
    "            'fields': list(map(lambda x: x.to_json(), self.procedures))\n",
    "        }\n",
    "    \n",
    "class Procedure:\n",
    "    \n",
    "    def __init__(self, date, observations):\n",
    "        '''\n",
    "        Medical procedure\n",
    "        \n",
    "        params:\n",
    "        - date: procedure datetime\n",
    "        - observation: dictionary with medical observations (hemoglobin etc.) \n",
    "        '''\n",
    "        self.date = date\n",
    "        self.observations = observations\n",
    "        \n",
    "    def to_json(self):\n",
    "        return {\n",
    "            'date': self.date,\n",
    "            'map': self.observations\n",
    "        }\n",
    "    \n",
    "\n",
    "## =============> UNIT-TESTS <==============\n",
    "class TestPatientData(unittest.TestCase):\n",
    "    \n",
    "    def __init__(self, *args, **kwargs):\n",
    "        super(TestPatientData, self).__init__(*args, **kwargs)\n",
    "        \n",
    "        dt = datetime.datetime.strptime('2019-02-02 22:33:44', DATETIME_FORMAT)            \n",
    "        observations = {\n",
    "            'gender': 'M',\n",
    "            'birthdate': '2000-01-01',\n",
    "            'weight': 80\n",
    "        }\n",
    "        \n",
    "        self.procedure = Procedure(dt.strftime(DATETIME_FORMAT), observations)\n",
    "        self.test_json = {\n",
    "            'date': '2019-02-02 22:33:44',\n",
    "            'map': {\n",
    "                'gender': 'M', \n",
    "                'birthdate': \n",
    "                '2000-01-01', \n",
    "                'weight': 80\n",
    "            }\n",
    "        }\n",
    "        \n",
    "    def test_procedure(self):        \n",
    "        self.assertEqual(self.procedure.to_json(), self.test_json)\n",
    "\n",
    "    def test_patient(self):        \n",
    "        uuid = '5d11d14e-ae0d-427a-b341-526d6c8d0b0c'\n",
    "        patient = Patient(uuid, '007', [self.procedure])\n",
    "        patient_json = {\n",
    "            'uuid': uuid,\n",
    "            'conceptClass': 'base_knowledge',\n",
    "            'enc_type': 'risk2',\n",
    "            'fields': [\n",
    "                {\n",
    "                    'date': '2019-02-02 22:33:44',\n",
    "                    'map': {\n",
    "                        'gender': 'M',\n",
    "                        'birthdate': '2000-01-01',\n",
    "                        'weight': 80\n",
    "                    }\n",
    "                }\n",
    "            ]\n",
    "        }\n",
    "        self.assertEqual(patient.to_json(),patient_json)\n",
    "\n",
    "unit_test(TestPatientData());"
   ]
  },
  {
   "cell_type": "code",
   "execution_count": 33,
   "metadata": {},
   "outputs": [
    {
     "name": "stdout",
     "output_type": "stream",
     "text": [
      "Connection successfull\n"
     ]
    }
   ],
   "source": [
    "config = configparser.ConfigParser()\n",
    "config.read(CONFIG_FILE)\n",
    "api_config = config._sections['dim-health-api']\n",
    "\n",
    "dim_health_api = DimHealthAPI(api_config['api_server'])\n",
    "if not dim_health_api.login(api_config['username'], api_config['password']):\n",
    "    print('Can\\'t login to dimhealth:', dim_health_api.err_details)\n",
    "else:\n",
    "    print('Connection successfull')\n",
    "    #dim_health_api.add_patients()"
   ]
  },
  {
   "cell_type": "code",
   "execution_count": 41,
   "metadata": {
    "scrolled": true
   },
   "outputs": [],
   "source": [
    "patient_json = {'patients': [\n",
    "    {\n",
    "            'uuid': str(uuid.uuid4()),\n",
    "            'conceptClass': 'base_knowledge',\n",
    "            'enc_type': 'risk2',\n",
    "            'fields': [\n",
    "                {\n",
    "                    'date': '2019-02-02 22:33:44',\n",
    "                    'map': {\n",
    "                        'gender': 'M',\n",
    "                         'birthdate': '2000-01-01',\n",
    "                         'weight': 80\n",
    "                    }\n",
    "                }\n",
    "            ]\n",
    "        }\n",
    "]}\n",
    "\n",
    "if not dim_health_api.add_patients(patient_json):\n",
    "    print(dim_health_api.err_details)"
   ]
  },
  {
   "cell_type": "code",
   "execution_count": 42,
   "metadata": {},
   "outputs": [
    {
     "data": {
      "text/plain": [
       "b'{\"patients\": [{\"uuid\": \"29974e5b-611c-47c0-8db9-c63cbe08894b\", \"fields\": [{\"date\": \"2019-02-02 22:33:44\", \"result\": {\"status\": 200, \"message\": \"\\\\u0441\\\\u043e\\\\u0445\\\\u0440\\\\u0430\\\\u043d\\\\u0435\\\\u043d\\\\u043e\"}}]}]}'"
      ]
     },
     "execution_count": 42,
     "metadata": {},
     "output_type": "execute_result"
    }
   ],
   "source": [
    "dim_health_api.req.content"
   ]
  },
  {
   "cell_type": "code",
   "execution_count": 169,
   "metadata": {},
   "outputs": [
    {
     "data": {
      "text/plain": [
       "{'uuid': 'b3c67058-962f-4bc2-a752-13ae92e6d035',\n",
       " 'conceptClass': 'base_knowledge',\n",
       " 'enc_type': 'risk2',\n",
       " 'fields': [{'date': '2019-02-02 22:33:44', 'map': {'gender': 'M'}}]}"
      ]
     },
     "execution_count": 169,
     "metadata": {},
     "output_type": "execute_result"
    }
   ],
   "source": [
    "#json.dumps(patient_json)\n",
    "patient_json"
   ]
  },
  {
   "cell_type": "code",
   "execution_count": null,
   "metadata": {},
   "outputs": [],
   "source": [
    "#mapping infoclinic to dimhealth\n",
    "# TotalHol           Общий холестерин, ммоль/л\n",
    "# hol_lpnp           Холестерин ЛПНП, ммоль/л\n",
    "# hol_lpvp           Холестерин ЛПВП, ммоль/л\n",
    "# triglycerides      Триглицериды, ммоль/л\n",
    "# blood_clqotting    МНО, ед.\n",
    "# creatinin20        Суточная экскреция креатинина, мг/сутки\n",
    "# albumin_day        Суточная экскреция альбумина, мг/сутки\n",
    "# albumin            Концентрация альбумина в моче, мг/л\n",
    "# speed_club_filtrac Скорость клубочковой фильтрации, мд/мин/1,73м2\n",
    "# citokeens          Повышенный уровень цитокинов\n",
    "\n",
    "mapping = [\n",
    "    ['gender', lambda x: 'M' if x['gender'] == 1 else 2],\n",
    "    ['bitdhdate', lamba x: x['treatdate'] - relativedelta(years=x['age'])],\n",
    "    ['TotalHol', 'Холестерин общий'],\n",
    "    ['hol_lpnp', 'Холестерин ЛПВП'],\n",
    "    ['hol_lpvp','Холестерин ЛПНП (LDL)'],\n",
    "    ['triglycerides','Триглицериды'],\n",
    "    ['blood_clqotting','Международное нормализованное отношение (МНО)'],\n",
    "    ['albumin','Альбумин']\n",
    "]\n"
   ]
  },
  {
   "cell_type": "code",
   "execution_count": 181,
   "metadata": {},
   "outputs": [],
   "source": [
    "import pandas as pd\n",
    "df = pd.read_csv('data/lab_2018_1.csv', encoding='utf-8', delimiter='\\t')"
   ]
  },
  {
   "cell_type": "code",
   "execution_count": 222,
   "metadata": {},
   "outputs": [
    {
     "data": {
      "text/plain": [
       "Series([], Name: DGNAME, dtype: int64)"
      ]
     },
     "execution_count": 222,
     "metadata": {},
     "output_type": "execute_result"
    }
   ],
   "source": [
    "df[df.DGNAME.fillna('').str.contains('акн')].DGNAME.value_counts()"
   ]
  },
  {
   "cell_type": "code",
   "execution_count": 218,
   "metadata": {
    "scrolled": false
   },
   "outputs": [],
   "source": [
    "#df.F25_NAMEPARAMS.value_counts().to_excel('f25.xls')\n",
    "df.DGNAME.value_counts().to_excel('dgname.xls')"
   ]
  },
  {
   "cell_type": "code",
   "execution_count": 176,
   "metadata": {},
   "outputs": [
    {
     "data": {
      "text/plain": [
       "<attribute 'year' of 'datetime.date' objects>"
      ]
     },
     "execution_count": 176,
     "metadata": {},
     "output_type": "execute_result"
    }
   ],
   "source": [
    "d = datetime.datetime.today()\n",
    "datetime.datetime.year\n",
    "\n",
    "from dateutil.relativedelta import relativedelta\n",
    "new_date = old_date - relativedelta(years=x)"
   ]
  },
  {
   "cell_type": "code",
   "execution_count": 223,
   "metadata": {},
   "outputs": [
    {
     "name": "stdout",
     "output_type": "stream",
     "text": [
      "Инициализирован пустой репозиторий Git в /home/roma/Документы/lab-data/.git/\r\n"
     ]
    }
   ],
   "source": [
    "# git inital setup\n",
    "# !git init\n",
    "# !git config --global user.email \"pomka@yandex.ru\"\n",
    "# !git config --global user.name \"Roman Shekhovtsov\"\n",
    "# !git remote add origin git@github.com:rshekhovtsov/dim-health.git"
   ]
  },
  {
   "cell_type": "code",
   "execution_count": 3,
   "metadata": {},
   "outputs": [
    {
     "name": "stdout",
     "output_type": "stream",
     "text": [
      "This notebook has been saved\n"
     ]
    },
    {
     "name": "stderr",
     "output_type": "stream",
     "text": [
      "warning: LF will be replaced by CRLF in dim-health.ipynb.\n",
      "The file will have its original line endings in your working directory\n"
     ]
    },
    {
     "name": "stdout",
     "output_type": "stream",
     "text": [
      "[master 97db972] 1st cell set width 100%\n",
      " Committer: РЁРµС…РѕРІС†РѕРІ Р РѕРјР°РЅ <rshekhovtsov@ent.drclinics.ru>\n",
      "Your name and email address were configured automatically based\n",
      "on your username and hostname. Please check that they are accurate.\n",
      "You can suppress this message by setting them explicitly:\n",
      "\n",
      "    git config --global user.name \"Your Name\"\n",
      "    git config --global user.email you@example.com\n",
      "\n",
      "After doing this, you may fix the identity used for this commit with:\n",
      "\n",
      "    git commit --amend --reset-author\n",
      "\n",
      " 1 file changed, 66 insertions(+), 13 deletions(-)\n"
     ]
    },
    {
     "name": "stderr",
     "output_type": "stream",
     "text": [
      "To github.com:rshekhovtsov/dim-health.git\n",
      "   a81f7b8..97db972  master -> master\n"
     ]
    }
   ],
   "source": [
    "# commit & push\n",
    "from IPython.display import Javascript\n",
    "\n",
    "def notebook_save():\n",
    "    script = '''\n",
    "    require([\"base/js/namespace\"],function(Jupyter) {\n",
    "        Jupyter.notebook.save_checkpoint();\n",
    "    });\n",
    "    '''\n",
    "    Javascript(script)\n",
    "    print('This notebook has been saved')\n",
    "\n",
    "notebook_save()\n",
    "\n",
    "!git add *.ipynb\n",
    "!git add *.xls\n",
    "!git commit -m \"1st cell set width 100%\"\n",
    "!git push origin master\n",
    "\n",
    "# !git add *.docx\n",
    "# !git commit -m \"api doc added\"\n",
    "# !git push origin master\n"
   ]
  }
 ],
 "metadata": {
  "kernelspec": {
   "display_name": "Python 3",
   "language": "python",
   "name": "python3"
  },
  "language_info": {
   "codemirror_mode": {
    "name": "ipython",
    "version": 3
   },
   "file_extension": ".py",
   "mimetype": "text/x-python",
   "name": "python",
   "nbconvert_exporter": "python",
   "pygments_lexer": "ipython3",
   "version": "3.7.3"
  }
 },
 "nbformat": 4,
 "nbformat_minor": 2
}
