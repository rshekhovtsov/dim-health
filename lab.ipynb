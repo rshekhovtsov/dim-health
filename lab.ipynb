{
 "cells": [
  {
   "cell_type": "code",
   "execution_count": 8,
   "metadata": {
    "collapsed": true
   },
   "outputs": [],
   "source": [
    "import sys\n",
    "sys.path.append(\"../../\") \n",
    "sys.path.append(\"../IKRequests/\") \n",
    "sys.path.append(\"./\") \n",
    "\n",
    "import numpy as np\n",
    "import pandas as pd\n",
    "import re\n",
    "import requests\n",
    "import json\n",
    "\n",
    "import utils as ut\n",
    "import fdb_connect as db\n",
    "import connect_ap as ap\n",
    "from datetime import datetime, timedelta\n",
    "from time import sleep"
   ]
  },
  {
   "cell_type": "code",
   "execution_count": 2,
   "metadata": {},
   "outputs": [
    {
     "name": "stdout",
     "output_type": "stream",
     "text": [
      "Connect to firebird\n"
     ]
    }
   ],
   "source": [
    "print('Connect to firebird')\n",
    "conn = db.FirebirdConnection()"
   ]
  },
  {
   "cell_type": "code",
   "execution_count": 3,
   "metadata": {
    "collapsed": true
   },
   "outputs": [],
   "source": [
    "par_prot = {\n",
    "    'year': 2018, \n",
    "    'month': 9\n",
    "}"
   ]
  },
  {
   "cell_type": "code",
   "execution_count": 4,
   "metadata": {
    "collapsed": true
   },
   "outputs": [],
   "source": [
    "def kv_to_table(df_ik):\n",
    "    \"\"\"\n",
    "    Convert table from key-value to shallow format\n",
    "    \"\"\"\n",
    "    prots_lst = list(set(df_ik['PROTOCOLID']))\n",
    "    res_list = []\n",
    "    for tc in prots_lst:\n",
    "        new_dict={}\n",
    "        df_tmp = df_ik[df_ik['PROTOCOLID']==tc]\n",
    "        suffixes = ['', '_MINNORM', '_MAXNORM']\n",
    "        for idx, col_name in enumerate(('VALUETEXT', 'MINNORMVALUE', 'MAXNORMVALUE')):\n",
    "            tmp_dict = dict(zip(df_tmp['F25_NAMEPARAMS'].tolist(), df_tmp[col_name].tolist()))\n",
    "            tmp_dict = {i+suffixes[idx]: tmp_dict[i] for i in tmp_dict.keys()}\n",
    "            tmp_dict = {re.sub(\"^\\s+|\\n|\\r|\\s+$\",'',i): tmp_dict[i] for i in tmp_dict.keys()}\n",
    "            tmp_dict = {i: tmp_dict[i].lower() for i in tmp_dict.keys()}\n",
    "            tmp_dict = {i: re.sub(\"^\\s+|\\n|\\r|\\s+$\",' ',tmp_dict[i]) for i in tmp_dict.keys()}\n",
    "            new_dict.update(tmp_dict)\n",
    "            \n",
    "        new_dict['pat_id']=list(set(df_tmp['PCODE'].astype(str).tolist()))[0]\n",
    "        new_dict['doc_id']=list(set(df_tmp['DCODE'].astype(str).tolist()))[0]\n",
    "        new_dict['AGE']=list(set(df_tmp['AGE'].astype(str).tolist()))[0]\n",
    "        new_dict['AGE_days']=list(set(df_tmp['AGE_days'].astype(str).tolist()))[0]\n",
    "        new_dict['GENDER']=list(set(df_tmp['GENDER'].astype(str).tolist()))[0]\n",
    "        new_dict['TREATDATE']=list(set(df_tmp['TREATDATE'].astype(str).tolist()))[0]\n",
    "        new_dict['диагноз по мкб-0']=list(set(df_tmp['DGNAME'].astype(str).tolist()))[0]\n",
    "        new_dict['шифр диагноза по мкб-0']=list(set(df_tmp['MKBCODE'].astype(str).tolist()))[0],\n",
    "        new_dict['emr_id']=list(set(df_tmp['PROTOCOLID'].astype(str).tolist()))[0]\n",
    "        new_dict['doctor_type_id']=\"ther\"\n",
    "        \n",
    "        df = pd.DataFrame(dict([ (k,pd.Series(v)) for k,v in new_dict.items() ]))\n",
    "        res_list.append(df)\n",
    "    \n",
    "    df_init_prots = pd.concat(res_list, sort=False)\n",
    "    df_init_prots = df_init_prots.fillna('')\n",
    "    df_res_prots = df_init_prots.reset_index(drop=True)\n",
    "    return df_res_prots"
   ]
  },
  {
   "cell_type": "code",
   "execution_count": 5,
   "metadata": {
    "collapsed": true
   },
   "outputs": [],
   "source": [
    "template='''\n",
    "    SELECT \n",
    "    p.PROFNAME,\n",
    "    d.dcode,\n",
    "    d.FULLNAME,\n",
    "    tp.PCODE, \n",
    "    c.pol gender,\n",
    "    floor((t.treatdate - c.bdate)/365) \"AGE\",\n",
    "    floor((t.treatdate - c.bdate)) \"AGE_days\",\n",
    "    t.TREATDATE,\n",
    "    tp.TREATCODE, \n",
    "    dg.DGNAME,\n",
    "    dg.MKBCODE,\n",
    "    gp.CODEPARAMS, \n",
    "    gp.NAMEPARAMS, \n",
    "    gp.F25_NAMEPARAMS, \n",
    "    pif.VALUETEXT,\n",
    "    pif.MINNORMVALUE,\n",
    "    pif.MAXNORMVALUE,\n",
    "    tp.PROTOCOLID\n",
    "    FROM TREATPLACE tp\n",
    "    LEFT JOIN PARAMSINFO pif ON pif.TREATCODE=tp.TREATCODE\n",
    "    LEFT JOIN TREAT t ON t.TREATCODE=tp.TREATCODE\n",
    "    LEFT JOIN DIAGNOSIS dg ON dg.DGCODE=t.DGCODE\n",
    "    LEFT JOIN GROUPSPARAMS gp ON gp.CODEPARAMS=pif.CODEPARAMS\n",
    "    LEFT JOIN GROUPSPARAMSNORM gpn ON gpn.CODEPARAMS=pif.CODEPARAMS\n",
    "    LEFT JOIN DOCTOR d ON d.dcode=tp.dcode\n",
    "    LEFT JOIN CLIENTS c ON c.pcode=tp.pcode\n",
    "    LEFT JOIN PROFESSION p ON p.profid = d.profid\n",
    "    WHERE 1=1 AND t.DEPNUM=991722445\n",
    "    AND t.YEARNUM = {year} AND t.MONTHNUM = {month}\n",
    "'''\n",
    "df_ik = conn.query_table(template.format(**par_prot))"
   ]
  },
  {
   "cell_type": "raw",
   "metadata": {},
   "source": [
    "df_res_prots = kv_to_table(df_ik)"
   ]
  },
  {
   "cell_type": "code",
   "execution_count": 6,
   "metadata": {
    "collapsed": true
   },
   "outputs": [],
   "source": [
    "df_ik.to_csv('lab_'+ str(par_prot['year']) + '_' + str(par_prot['month']) + '.csv', sep='\\t')"
   ]
  },
  {
   "cell_type": "raw",
   "metadata": {},
   "source": [
    "for i in range(1,5):\n",
    "    par_prot = {\n",
    "        'year': 2018, \n",
    "        'month': i\n",
    "    }\n",
    "    template='''\n",
    "    SELECT \n",
    "    p.PROFNAME,\n",
    "    d.dcode,\n",
    "    d.FULLNAME,\n",
    "    tp.PCODE, \n",
    "    c.pol gender,\n",
    "    floor((t.treatdate - c.bdate)/365) \"AGE\",\n",
    "    floor((t.treatdate - c.bdate)) \"AGE_days\",\n",
    "    t.TREATDATE,\n",
    "    tp.TREATCODE, \n",
    "    dg.DGNAME,\n",
    "    dg.MKBCODE,\n",
    "    gp.CODEPARAMS, \n",
    "    gp.NAMEPARAMS, \n",
    "    gp.F25_NAMEPARAMS, \n",
    "    pif.VALUETEXT,\n",
    "    pif.MINNORMVALUE,\n",
    "    pif.MAXNORMVALUE,\n",
    "    tp.PROTOCOLID\n",
    "    FROM TREATPLACE tp\n",
    "    LEFT JOIN PARAMSINFO pif ON pif.TREATCODE=tp.TREATCODE\n",
    "    LEFT JOIN TREAT t ON t.TREATCODE=tp.TREATCODE\n",
    "    LEFT JOIN DIAGNOSIS dg ON dg.DGCODE=t.DGCODE\n",
    "    LEFT JOIN GROUPSPARAMS gp ON gp.CODEPARAMS=pif.CODEPARAMS\n",
    "    LEFT JOIN GROUPSPARAMSNORM gpn ON gpn.CODEPARAMS=pif.CODEPARAMS\n",
    "    LEFT JOIN DOCTOR d ON d.dcode=tp.dcode\n",
    "    LEFT JOIN CLIENTS c ON c.pcode=tp.pcode\n",
    "    LEFT JOIN PROFESSION p ON p.profid = d.profid\n",
    "    WHERE 1=1 AND t.DEPNUM=991722445\n",
    "    AND t.YEARNUM = {year} AND t.MONTHNUM = {month}\n",
    "    '''\n",
    "    df_ik = conn.query_table(template.format(**par_prot))\n",
    "    df_ik.to_csv('lab_'+ str(par_prot['year']) + '_' + str(par_prot['month']) + '.csv', sep='\\t')\n",
    "    sleep(60)"
   ]
  },
  {
   "cell_type": "code",
   "execution_count": null,
   "metadata": {
    "collapsed": true
   },
   "outputs": [],
   "source": []
  }
 ],
 "metadata": {
  "kernelspec": {
   "display_name": "Python 3",
   "language": "python",
   "name": "python3"
  },
  "language_info": {
   "codemirror_mode": {
    "name": "ipython",
    "version": 3
   },
   "file_extension": ".py",
   "mimetype": "text/x-python",
   "name": "python",
   "nbconvert_exporter": "python",
   "pygments_lexer": "ipython3",
   "version": "3.7.1"
  },
  "toc": {
   "base_numbering": 1,
   "nav_menu": {},
   "number_sections": true,
   "sideBar": true,
   "skip_h1_title": false,
   "title_cell": "Table of Contents",
   "title_sidebar": "Contents",
   "toc_cell": false,
   "toc_position": {},
   "toc_section_display": true,
   "toc_window_display": false
  }
 },
 "nbformat": 4,
 "nbformat_minor": 2
}
